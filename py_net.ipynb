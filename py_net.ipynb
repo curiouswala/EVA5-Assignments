{
  "nbformat": 4,
  "nbformat_minor": 0,
  "metadata": {
    "colab": {
      "name": "py_net.ipynb",
      "provenance": [],
      "collapsed_sections": [],
      "toc_visible": true,
      "include_colab_link": true
    },
    "kernelspec": {
      "name": "python3",
      "display_name": "Python 3"
    },
    "accelerator": "GPU"
  },
  "cells": [
    {
      "cell_type": "markdown",
      "metadata": {
        "id": "view-in-github",
        "colab_type": "text"
      },
      "source": [
        "<a href=\"https://colab.research.google.com/github/parth-mango/EVA5-Assignments/blob/main/py_net.ipynb\" target=\"_parent\"><img src=\"https://colab.research.google.com/assets/colab-badge.svg\" alt=\"Open In Colab\"/></a>"
      ]
    },
    {
      "cell_type": "markdown",
      "metadata": {
        "id": "S_v_6sMwK5Dp"
      },
      "source": [
        "# Steps:\r\n",
        "\r\n",
        "1. Import libraries \r\n",
        "2. Create a training set\r\n",
        "3. create a dataloader\r\n",
        "4. Define a network: <br>\r\n",
        "   a. Define layers in the __init__ function <br>\r\n",
        "   b. Make a forward function<br>\r\n",
        "   c. Define optimizer<br>\r\n",
        "   d. Call backward function to propagate the loss backwards <br>\r\n",
        "5. Train the network for defined epochs, get predictions & propagate the loss backwards <br>  \r\n",
        "\r\n"
      ]
    },
    {
      "cell_type": "code",
      "metadata": {
        "id": "qmAiu_SuMhEE"
      },
      "source": [
        "import torch\r\n",
        "import torch.nn as nn\r\n",
        "import torch.nn.functional as F\r\n",
        "import torch.optim as optim\r\n",
        "import torchvision\r\n",
        "from torchvision import transforms\r\n",
        "import numpy as np\r\n",
        "import matplotlib.pyplot as plt\r\n",
        "\r\n",
        "# !pip install torchsummary\r\n",
        "from torchsummary import summary"
      ],
      "execution_count": 1,
      "outputs": []
    },
    {
      "cell_type": "code",
      "metadata": {
        "id": "Wl225Nt9MzK1"
      },
      "source": [
        "train_set= torchvision.datasets.EMNIST('/content/data/', split= 'byclass', train= True, download= True, transform= transforms.Compose([transforms.ToTensor()]))"
      ],
      "execution_count": 2,
      "outputs": []
    },
    {
      "cell_type": "code",
      "metadata": {
        "colab": {
          "base_uri": "https://localhost:8080/"
        },
        "id": "USnAR4I77pqI",
        "outputId": "45a4a885-0074-4850-e72e-f646de80df5e"
      },
      "source": [
        "train_set.train_labels.bincount() # unbalanced dataset 'byclass' specified by us above - 62 classes"
      ],
      "execution_count": 3,
      "outputs": [
        {
          "output_type": "stream",
          "text": [
            "/usr/local/lib/python3.6/dist-packages/torchvision/datasets/mnist.py:48: UserWarning: train_labels has been renamed targets\n",
            "  warnings.warn(\"train_labels has been renamed targets\")\n"
          ],
          "name": "stderr"
        },
        {
          "output_type": "execute_result",
          "data": {
            "text/plain": [
              "tensor([34585, 38374, 34203, 35143, 33535, 31416, 34232, 35754, 33946, 33847,\n",
              "         6407,  3878, 10094,  4562,  4934,  9182,  2517,  3152, 11946,  3762,\n",
              "         2468,  5076,  9002,  8237, 24983,  8347,  2605,  5073, 20764,  9820,\n",
              "        12602,  4637,  4695,  2771,  4743,  2701, 10033,  5159,  2854, 10177,\n",
              "        24631,  2561,  3687,  8738,  2725,  1896,  2491, 15318,  2645, 11418,\n",
              "         2749,  2448,  2994, 14105,  2699, 18262,  2830,  2910,  2697,  2822,\n",
              "         2365,  2725])"
            ]
          },
          "metadata": {
            "tags": []
          },
          "execution_count": 3
        }
      ]
    },
    {
      "cell_type": "code",
      "metadata": {
        "colab": {
          "base_uri": "https://localhost:8080/"
        },
        "id": "OZm66TyC-i8D",
        "outputId": "64338ebc-796b-497c-a9eb-050e9e511a03"
      },
      "source": [
        "sample= next(iter(train_set)) # train_set is an iterator \r\n",
        "\r\n",
        "img, y= sample\r\n",
        "\r\n",
        "print(img.shape, y)  # Priniting the image shape and label for the image"
      ],
      "execution_count": 4,
      "outputs": [
        {
          "output_type": "stream",
          "text": [
            "torch.Size([1, 28, 28]) 35\n"
          ],
          "name": "stdout"
        }
      ]
    },
    {
      "cell_type": "code",
      "metadata": {
        "colab": {
          "base_uri": "https://localhost:8080/"
        },
        "id": "-pyJwyJkU0fv",
        "outputId": "852458f4-85cd-4422-be7e-76dc02489e73"
      },
      "source": [
        "len(train_set) # That's the number of training samples"
      ],
      "execution_count": 5,
      "outputs": [
        {
          "output_type": "execute_result",
          "data": {
            "text/plain": [
              "697932"
            ]
          },
          "metadata": {
            "tags": []
          },
          "execution_count": 5
        }
      ]
    },
    {
      "cell_type": "code",
      "metadata": {
        "id": "_mOU-ApYTBMB",
        "colab": {
          "base_uri": "https://localhost:8080/",
          "height": 283
        },
        "outputId": "4f8d5aa4-24e5-4369-c7b6-5ec3ea5db1d1"
      },
      "source": [
        "sample_img= torch.reshape(train_set[0][0], (28, 28, -1)).squeeze()\r\n",
        "plt.imshow(sample_img, cmap= 'gray') # plotting the image"
      ],
      "execution_count": 6,
      "outputs": [
        {
          "output_type": "execute_result",
          "data": {
            "text/plain": [
              "<matplotlib.image.AxesImage at 0x7fe482ac3eb8>"
            ]
          },
          "metadata": {
            "tags": []
          },
          "execution_count": 6
        },
        {
          "output_type": "display_data",
          "data": {
            "image/png": "[encoded data removed]",
            "text/plain": [
              "<Figure size 432x288 with 1 Axes>"
            ]
          },
          "metadata": {
            "tags": [],
            "needs_background": "light"
          }
        }
      ]
    },
    {
      "cell_type": "code",
      "metadata": {
        "id": "KDXRAy5tAir9"
      },
      "source": [
        "train_dataloader= torch.utils.data.DataLoader(dataset= train_set, batch_size= 10000, shuffle= True)"
      ],
      "execution_count": 7,
      "outputs": []
    },
    {
      "cell_type": "code",
      "metadata": {
        "colab": {
          "base_uri": "https://localhost:8080/"
        },
        "id": "PpCQagxaApBa",
        "outputId": "27e35755-3b0b-48de-eca1-10e93eca5052"
      },
      "source": [
        "sample_dl= next(iter(train_dataloader))\r\n",
        "\r\n",
        "sample_dl # Outputs 10 image tensors and their labels"
      ],
      "execution_count": 8,
      "outputs": [
        {
          "output_type": "execute_result",
          "data": {
            "text/plain": [
              "[tensor([[[[0.0000, 0.0000, 0.0000,  ..., 0.0000, 0.0000, 0.0000],\n",
              "           [0.0000, 0.0000, 0.0000,  ..., 0.0000, 0.0000, 0.0000],\n",
              "           [0.0000, 0.0000, 0.0000,  ..., 0.0000, 0.0000, 0.0000],\n",
              "           ...,\n",
              "           [0.0000, 0.0000, 0.0000,  ..., 0.0000, 0.0000, 0.0000],\n",
              "           [0.0000, 0.0000, 0.0000,  ..., 0.0000, 0.0000, 0.0000],\n",
              "           [0.0000, 0.0000, 0.0000,  ..., 0.0000, 0.0000, 0.0000]]],\n",
              " \n",
              " \n",
              "         [[[0.0000, 0.0000, 0.0000,  ..., 0.0000, 0.0000, 0.0000],\n",
              "           [0.0000, 0.0000, 0.0000,  ..., 0.0000, 0.0000, 0.0000],\n",
              "           [0.0000, 0.0000, 0.0000,  ..., 0.0000, 0.0000, 0.0000],\n",
              "           ...,\n",
              "           [0.0000, 0.0000, 0.0000,  ..., 0.0000, 0.0000, 0.0000],\n",
              "           [0.0000, 0.0000, 0.0000,  ..., 0.0000, 0.0000, 0.0000],\n",
              "           [0.0000, 0.0000, 0.0000,  ..., 0.0000, 0.0000, 0.0000]]],\n",
              " \n",
              " \n",
              "         [[[0.0000, 0.0000, 0.0000,  ..., 0.0000, 0.0000, 0.0000],\n",
              "           [0.0000, 0.0000, 0.0000,  ..., 0.0039, 0.0000, 0.0000],\n",
              "           [0.0000, 0.0000, 0.0000,  ..., 0.1804, 0.0000, 0.0000],\n",
              "           ...,\n",
              "           [0.0000, 0.0000, 0.1294,  ..., 0.0000, 0.0000, 0.0000],\n",
              "           [0.0000, 0.0000, 0.0000,  ..., 0.0000, 0.0000, 0.0000],\n",
              "           [0.0000, 0.0000, 0.0000,  ..., 0.0000, 0.0000, 0.0000]]],\n",
              " \n",
              " \n",
              "         ...,\n",
              " \n",
              " \n",
              "         [[[0.0000, 0.0000, 0.0000,  ..., 0.0000, 0.0000, 0.0000],\n",
              "           [0.0000, 0.0000, 0.0000,  ..., 0.0000, 0.0000, 0.0000],\n",
              "           [0.0000, 0.0000, 0.0000,  ..., 0.0000, 0.0000, 0.0000],\n",
              "           ...,\n",
              "           [0.0000, 0.0000, 0.0000,  ..., 0.0000, 0.0000, 0.0000],\n",
              "           [0.0000, 0.0000, 0.0000,  ..., 0.0000, 0.0000, 0.0000],\n",
              "           [0.0000, 0.0000, 0.0000,  ..., 0.0000, 0.0000, 0.0000]]],\n",
              " \n",
              " \n",
              "         [[[0.0000, 0.0000, 0.0000,  ..., 0.0000, 0.0000, 0.0000],\n",
              "           [0.0000, 0.0000, 0.0000,  ..., 0.0000, 0.0000, 0.0000],\n",
              "           [0.0000, 0.0000, 0.0000,  ..., 0.0000, 0.0000, 0.0000],\n",
              "           ...,\n",
              "           [0.0000, 0.0000, 0.0000,  ..., 0.0000, 0.0000, 0.0000],\n",
              "           [0.0000, 0.0000, 0.0000,  ..., 0.0000, 0.0000, 0.0000],\n",
              "           [0.0000, 0.0000, 0.0000,  ..., 0.0000, 0.0000, 0.0000]]],\n",
              " \n",
              " \n",
              "         [[[0.0000, 0.0000, 0.0000,  ..., 0.0000, 0.0000, 0.0000],\n",
              "           [0.0000, 0.0000, 0.0000,  ..., 0.0000, 0.0000, 0.0000],\n",
              "           [0.0000, 0.0000, 0.0000,  ..., 0.0000, 0.0000, 0.0000],\n",
              "           ...,\n",
              "           [0.0000, 0.0000, 0.0000,  ..., 0.0000, 0.0000, 0.0000],\n",
              "           [0.0000, 0.0000, 0.0000,  ..., 0.0000, 0.0000, 0.0000],\n",
              "           [0.0000, 0.0000, 0.0000,  ..., 0.0000, 0.0000, 0.0000]]]]),\n",
              " tensor([37,  7, 35,  ..., 39,  8,  3])]"
            ]
          },
          "metadata": {
            "tags": []
          },
          "execution_count": 8
        }
      ]
    },
    {
      "cell_type": "code",
      "metadata": {
        "id": "o0RbdcwIT510"
      },
      "source": [
        "class Net(nn.Module):\r\n",
        "  \r\n",
        "  def __init__(self):\r\n",
        "    super().__init__()\r\n",
        "    self.conv1= nn.Conv2d(in_channels= 1, out_channels= 10, kernel_size= 3, padding= 1) #28x28x1 > 28x28x10; RF: 3x3\r\n",
        "    self.conv2= nn.Conv2d(in_channels= 10, out_channels= 10, kernel_size= 3,padding= 1 ) #28x28x10 > 28x28x10; RF: 5x5\r\n",
        "    self.max_pool1= nn.MaxPool2d(2, stride= 2) #28x28x10 > 14x14x10 ; RF: 10x10\r\n",
        "    self.conv3= nn.Conv2d(in_channels= 10, out_channels= 20, kernel_size= 3, padding=1 ) #14x14x10 > 14x14x20; RF: 12x12\r\n",
        "    self.conv4= nn.Conv2d(in_channels= 20, out_channels= 20, kernel_size= 3, padding= 1) #14x14x20 > 14x14x20; RF: 14x14\r\n",
        "    self.max_pool2= nn.MaxPool2d(2, stride= 2) #14x14x20 > 7x7x20 ; RF: 28x28\r\n",
        "    self.conv5= nn.Conv2d(in_channels= 20, out_channels=30, kernel_size= 3 ) #7x7x20 > 5x5x30; RF: 30x30\r\n",
        "    self.conv6= nn.Conv2d(in_channels= 30, out_channels= 62, kernel_size= 3) #5x5x30 > 3x3x62; RF: 32x32\r\n",
        "    self.avg_pool= nn.AvgPool2d(3, stride= 2) # 3x3x30 > 1x1x62; RF: 96x96\r\n",
        "\r\n",
        "  def forward(self, t):\r\n",
        "    t= self.max_pool1(F.relu(self.conv2(F.relu(self.conv1(t)))))\r\n",
        "    t= self.max_pool2(F.relu(self.conv4(F.relu(self.conv3(t)))))\r\n",
        "    t= self.avg_pool(self.conv6(F.relu(self.conv5(t)))) # No relu in the last convolution layer\r\n",
        "    # t= t.squeeze()\r\n",
        "    t= t.view(-1, 62) # reshaping the tensor \r\n",
        "    # print(t.shape)\r\n",
        "\r\n",
        "    return F.log_softmax(t, dim= 1) #Applying softmax activation for final prediction\r\n"
      ],
      "execution_count": 9,
      "outputs": []
    },
    {
      "cell_type": "code",
      "metadata": {
        "id": "xw-3YPildt6u",
        "colab": {
          "base_uri": "https://localhost:8080/"
        },
        "outputId": "e01f10cf-cff1-484c-c620-6300dfe744fd"
      },
      "source": [
        "use_cuda = torch.cuda.is_available()\r\n",
        "device = torch.device(\"cuda\" if use_cuda else \"cpu\")\r\n",
        "\r\n",
        "print(device) #Testing is the device is GPU or CPU\r\n",
        "\r\n",
        "model = Net().to(device)\r\n",
        "\r\n",
        "summary(model, input_size=(1, 28, 28))\r\n",
        "# print(model)\r\n",
        "# print(model.conv1.weight)\r\n",
        "\r\n",
        "for params in model.parameters():\r\n",
        "  print(params.shape) # We see the output at the first place and input in the second place \r\n",
        "  \r\n"
      ],
      "execution_count": 10,
      "outputs": [
        {
          "output_type": "stream",
          "text": [
            "cuda\n",
            "----------------------------------------------------------------\n",
            "        Layer (type)               Output Shape         Param #\n",
            "================================================================\n",
            "            Conv2d-1           [-1, 10, 28, 28]             100\n",
            "            Conv2d-2           [-1, 10, 28, 28]             910\n",
            "         MaxPool2d-3           [-1, 10, 14, 14]               0\n",
            "            Conv2d-4           [-1, 20, 14, 14]           1,820\n",
            "            Conv2d-5           [-1, 20, 14, 14]           3,620\n",
            "         MaxPool2d-6             [-1, 20, 7, 7]               0\n",
            "            Conv2d-7             [-1, 30, 5, 5]           5,430\n",
            "            Conv2d-8             [-1, 62, 3, 3]          16,802\n",
            "         AvgPool2d-9             [-1, 62, 1, 1]               0\n",
            "================================================================\n",
            "Total params: 28,682\n",
            "Trainable params: 28,682\n",
            "Non-trainable params: 0\n",
            "----------------------------------------------------------------\n",
            "Input size (MB): 0.00\n",
            "Forward/backward pass size (MB): 0.21\n",
            "Params size (MB): 0.11\n",
            "Estimated Total Size (MB): 0.32\n",
            "----------------------------------------------------------------\n",
            "torch.Size([10, 1, 3, 3])\n",
            "torch.Size([10])\n",
            "torch.Size([10, 10, 3, 3])\n",
            "torch.Size([10])\n",
            "torch.Size([20, 10, 3, 3])\n",
            "torch.Size([20])\n",
            "torch.Size([20, 20, 3, 3])\n",
            "torch.Size([20])\n",
            "torch.Size([30, 20, 3, 3])\n",
            "torch.Size([30])\n",
            "torch.Size([62, 30, 3, 3])\n",
            "torch.Size([62])\n"
          ],
          "name": "stdout"
        }
      ]
    },
    {
      "cell_type": "code",
      "metadata": {
        "colab": {
          "base_uri": "https://localhost:8080/"
        },
        "id": "3DdtlwYb7iNP",
        "outputId": "1a771e1e-aec1-4b26-d2eb-6b5392d945c0"
      },
      "source": [
        "optim= torch.optim.Adam(model.parameters(), lr= 0.001) \r\n",
        "torch.set_grad_enabled(True) #Enabling Gradient \r\n",
        "\r\n",
        "def num_correct_preds(preds, labels): # Function to get the number of correct predictions\r\n",
        "  return preds.argmax(dim= 1).eq(labels).sum().item() \r\n",
        "\r\n",
        "\r\n",
        "for epochs in range(20):\r\n",
        "  \r\n",
        "  \r\n",
        "  total_loss= 0\r\n",
        "  correct_preds= 0\r\n",
        "  total= 0\r\n",
        "\r\n",
        "  for mini_batch in train_dataloader: \r\n",
        "    images, labels= mini_batch  # Batch of images and labels\r\n",
        "    images, labels= images.to(device), labels.to(device)  \r\n",
        "    # labels=  torch.nn.functional.one_hot(labels)\r\n",
        "    # reverted = torch.argmax(one_hot, dim=1)\r\n",
        "    # assert (one_hot == reverted).all().item()\r\n",
        "\r\n",
        "    # labels = torch.tensor(labels)\r\n",
        "    # one_hot = torch.zeros(len(labels), 62)\r\n",
        "    # one_hot[torch.arange(len(labels)), labels] = 1\r\n",
        "    # reverted = torch.argmax(one_hot, dim=1)\r\n",
        "    # assert (labels == reverted).all().item()\r\n",
        "    # one_hot= one_hot.type(torch.LongTensor)\r\n",
        "    # images, labels_= images.to(device), one_hot.to(device)\r\n",
        "\r\n",
        "\r\n",
        "\r\n",
        "    \r\n",
        "    \r\n",
        "    preds= model(images) # Predicting through model\r\n",
        "    # print(preds)\r\n",
        "    # print(labels)\r\n",
        "\r\n",
        "    loss= F.cross_entropy(preds, labels) # calculating Cross entropy loss\r\n",
        "    # print(loss)\r\n",
        "\r\n",
        "    optim.zero_grad() # making gradient zero to prevent gradient accumulation\r\n",
        "\r\n",
        "    loss.backward()  # Backward propagation of loss\r\n",
        "\r\n",
        "    optim.step()  # Updating the weights\r\n",
        "\r\n",
        "    total_loss+= loss.item()\r\n",
        "    correct_preds+= num_correct_preds(preds, labels)\r\n",
        "    total+= labels.size(0)\r\n",
        "  \r\n",
        "  print(' Current Epoch: {}, \\n Total Correct Predictions: {}, \\n Total Loss:{} , \\n Accuracy: {} '.format(epochs, correct_preds, total_loss, correct_preds/total))\r\n",
        "\r\n",
        "\r\n",
        "\r\n"
      ],
      "execution_count": 11,
      "outputs": [
        {
          "output_type": "stream",
          "text": [
            " Current Epoch: 0, \n",
            " Total Correct Predictions: 98509, \n",
            " Total Loss:250.1446406841278 , \n",
            " Accuracy: 0.1411441229231501 \n",
            " Current Epoch: 1, \n",
            " Total Correct Predictions: 372558, \n",
            " Total Loss:121.33733034133911 , \n",
            " Accuracy: 0.5338027200357628 \n",
            " Current Epoch: 2, \n",
            " Total Correct Predictions: 497350, \n",
            " Total Loss:66.92763602733612 , \n",
            " Accuracy: 0.7126052394789177 \n",
            " Current Epoch: 3, \n",
            " Total Correct Predictions: 531842, \n",
            " Total Loss:52.8263258934021 , \n",
            " Accuracy: 0.7620255268421565 \n",
            " Current Epoch: 4, \n",
            " Total Correct Predictions: 546123, \n",
            " Total Loss:47.473343312740326 , \n",
            " Accuracy: 0.7824874056498341 \n",
            " Current Epoch: 5, \n",
            " Total Correct Predictions: 554803, \n",
            " Total Loss:44.19183272123337 , \n",
            " Accuracy: 0.7949241473381361 \n",
            " Current Epoch: 6, \n",
            " Total Correct Predictions: 560571, \n",
            " Total Loss:41.87605261802673 , \n",
            " Accuracy: 0.8031885627826206 \n",
            " Current Epoch: 7, \n",
            " Total Correct Predictions: 565207, \n",
            " Total Loss:40.28536856174469 , \n",
            " Accuracy: 0.8098310437119949 \n",
            " Current Epoch: 8, \n",
            " Total Correct Predictions: 568175, \n",
            " Total Loss:38.95103162527084 , \n",
            " Accuracy: 0.8140836069989627 \n",
            " Current Epoch: 9, \n",
            " Total Correct Predictions: 571347, \n",
            " Total Loss:37.84617179632187 , \n",
            " Accuracy: 0.8186284623716924 \n",
            " Current Epoch: 10, \n",
            " Total Correct Predictions: 574117, \n",
            " Total Loss:36.82971382141113 , \n",
            " Accuracy: 0.82259733039895 \n",
            " Current Epoch: 11, \n",
            " Total Correct Predictions: 576169, \n",
            " Total Loss:36.01252210140228 , \n",
            " Accuracy: 0.8255374449086731 \n",
            " Current Epoch: 12, \n",
            " Total Correct Predictions: 578261, \n",
            " Total Loss:35.266690492630005 , \n",
            " Accuracy: 0.8285348715920748 \n",
            " Current Epoch: 13, \n",
            " Total Correct Predictions: 579575, \n",
            " Total Loss:34.76111423969269 , \n",
            " Accuracy: 0.8304175764974239 \n",
            " Current Epoch: 14, \n",
            " Total Correct Predictions: 581214, \n",
            " Total Loss:34.13481080532074 , \n",
            " Accuracy: 0.8327659428139131 \n",
            " Current Epoch: 15, \n",
            " Total Correct Predictions: 582582, \n",
            " Total Loss:33.674726724624634 , \n",
            " Accuracy: 0.8347260191537285 \n",
            " Current Epoch: 16, \n",
            " Total Correct Predictions: 583762, \n",
            " Total Loss:33.18701633810997 , \n",
            " Accuracy: 0.8364167282772533 \n",
            " Current Epoch: 17, \n",
            " Total Correct Predictions: 584737, \n",
            " Total Loss:32.850173115730286 , \n",
            " Accuracy: 0.8378137125106744 \n",
            " Current Epoch: 18, \n",
            " Total Correct Predictions: 586084, \n",
            " Total Loss:32.37184923887253 , \n",
            " Accuracy: 0.8397436999593083 \n",
            " Current Epoch: 19, \n",
            " Total Correct Predictions: 586902, \n",
            " Total Loss:32.08806136250496 , \n",
            " Accuracy: 0.84091573391104 \n"
          ],
          "name": "stdout"
        }
      ]
    },
    {
      "cell_type": "code",
      "metadata": {
        "id": "ngjXwps9EtPt"
      },
      "source": [
        ""
      ],
      "execution_count": 11,
      "outputs": []
    }
  ]
}
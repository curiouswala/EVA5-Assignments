{
  "nbformat": 4,
  "nbformat_minor": 0,
  "metadata": {
    "colab": {
      "name": "EVA_S4.ipynb",
      "provenance": [],
      "collapsed_sections": [],
      "include_colab_link": true
    },
    "kernelspec": {
      "display_name": "Python 3",
      "name": "python3"
    },
    "accelerator": "GPU"
  },
  "cells": [
    {
      "cell_type": "markdown",
      "metadata": {
        "id": "view-in-github",
        "colab_type": "text"
      },
      "source": [
        "<a href=\"https://colab.research.google.com/github/parth-mango/EVA5-Assignments/blob/main/EVA_S4.ipynb\" target=\"_parent\"><img src=\"https://colab.research.google.com/assets/colab-badge.svg\" alt=\"Open In Colab\"/></a>"
      ]
    },
    {
      "cell_type": "code",
      "metadata": {
        "id": "0m2JWFliFfKT"
      },
      "source": [
        "from __future__ import print_function\n",
        "import torch\n",
        "import torch.nn as nn\n",
        "import torch.nn.functional as F\n",
        "import torch.optim as optim\n",
        "from torchvision import datasets, transforms"
      ],
      "execution_count": null,
      "outputs": []
    },
    {
      "cell_type": "code",
      "metadata": {
        "id": "VjRAmzv_Ih_I"
      },
      "source": [
        "#  Model paramters: 19942, accuray: >99.4\n",
        "\n",
        "# class Net(nn.Module):\n",
        "#     def __init__(self):\n",
        "#         super(Net, self).__init__()\n",
        "        \n",
        "#         self.conv = nn.Sequential(\n",
        "#             nn.Conv2d(1, 4, 3, padding=1),\n",
        "#             nn.ReLU(),\n",
        "#             nn.BatchNorm2d(4),\n",
        "#             nn.Conv2d(4, 8, 3, padding=1),\n",
        "#             nn.ReLU(),\n",
        "#             nn.BatchNorm2d(8),\n",
        "#             nn.Conv2d(8, 12, 3, padding=1),\n",
        "#             nn.ReLU(),\n",
        "#             nn.BatchNorm2d(12),\n",
        "#             nn.Conv2d(12, 16, 3, padding=1),\n",
        "#             nn.ReLU(),\n",
        "#             nn.BatchNorm2d(16),\n",
        "#             nn.MaxPool2d(2,2),\n",
        "#             nn.Conv2d(16, 32, 3, padding=1),\n",
        "#             nn.ReLU(),\n",
        "#             nn.BatchNorm2d(32),\n",
        "#             nn.Conv2d(32, 32, 3, padding=1),\n",
        "#             nn.ReLU(),\n",
        "#             nn.BatchNorm2d(32),\n",
        "#             nn.MaxPool2d(2,2),\n",
        "#             nn.Conv2d(32, 10, 3),\n",
        "#             nn.AvgPool2d(5, 2),\n",
        "#         )\n",
        " \n",
        "#     def forward(self, x):\n",
        "#         x = self.conv(x)\n",
        "        \n",
        "#         x = x.view(-1, 10)\n",
        "#         x = F.log_softmax(x, dim=1)\n",
        "#         return x"
      ],
      "execution_count": null,
      "outputs": []
    },
    {
      "cell_type": "code",
      "metadata": {
        "id": "wi9h6NPDVOog"
      },
      "source": [
        "# #  Model paramters: 19842, accuray: >99.4\r\n",
        "\r\n",
        "# class Net(nn.Module):\r\n",
        "#     def __init__(self):\r\n",
        "#         super(Net, self).__init__()\r\n",
        "        \r\n",
        "#         self.conv = nn.Sequential(\r\n",
        "#             # nn.Conv2d(1, 4, 3, padding=1),\r\n",
        "#             # nn.ReLU(),\r\n",
        "#             # nn.BatchNorm2d(4),\r\n",
        "#             nn.Conv2d(1, 8, 3, padding=1),\r\n",
        "#             nn.ReLU(),\r\n",
        "#             nn.Conv2d(8, 16, 3, padding=1),\r\n",
        "#             nn.ReLU(),\r\n",
        "#             nn.BatchNorm2d(16),\r\n",
        "#             nn.MaxPool2d(2,2),\r\n",
        "#             nn.Conv2d(16, 16, 3, padding=1),\r\n",
        "#             nn.ReLU(),\r\n",
        "#             nn.Conv2d(16, 32, 3, padding=1),\r\n",
        "#             nn.ReLU(),\r\n",
        "#             nn.BatchNorm2d(32),\r\n",
        "#             nn.MaxPool2d(2,2),\r\n",
        "#             nn.Conv2d(32, 32, 3),\r\n",
        "#             nn.ReLU(),\r\n",
        "#             nn.Conv2d(32, 10, 3),\r\n",
        "#             nn.AvgPool2d(5, 2),\r\n",
        "#         )\r\n",
        " \r\n",
        "#     def forward(self, x):\r\n",
        "#         x = self.conv(x)\r\n",
        "        \r\n",
        "#         x = x.view(-1, 10)\r\n",
        "#         x = F.log_softmax(x, dim=1)\r\n",
        "#         return x\r\n"
      ],
      "execution_count": null,
      "outputs": []
    },
    {
      "cell_type": "code",
      "metadata": {
        "id": "qe34Xxj9roQN"
      },
      "source": [
        "# #  Model paramters: 20442, accuray: >99.5\r\n",
        "\r\n",
        "# self.conv = nn.Sequential(\r\n",
        "#             nn.Conv2d(1, 4, 3, padding=1), # 28x28\r\n",
        "#             nn.ReLU(),\r\n",
        "#             nn.Conv2d(4, 8, 3, padding=1), # 28x28\r\n",
        "#             nn.ReLU(),\r\n",
        "#             nn.BatchNorm2d(8),\r\n",
        "#             nn.MaxPool2d(2,2),\r\n",
        "#             nn.Conv2d(8, 12, 3, padding=1), # 14x14\r\n",
        "#             nn.ReLU(),\r\n",
        "#             nn.Conv2d(12, 16, 3, padding=1), # 14x14\r\n",
        "#             nn.ReLU(),\r\n",
        "#             nn.BatchNorm2d(16),\r\n",
        "#             nn.MaxPool2d(2,2),\r\n",
        "#             nn.Conv2d(16, 32, 3, padding=1), # 7x7\r\n",
        "#             nn.ReLU(),\r\n",
        "#             nn.Conv2d(32, 32, 3), # 5x5\r\n",
        "#             nn.ReLU(),\r\n",
        "#             nn.BatchNorm2d(32),\r\n",
        "#             nn.Conv2d(32, 10, 3), # 3*3\r\n",
        "#             nn.AvgPool2d(3, 2), # \r\n",
        "#         )\r\n",
        "\r\n",
        " \r\n",
        "#     def forward(self, x):\r\n",
        "#         x = self.conv(x)\r\n",
        "        \r\n",
        "#         x = x.view(-1, 10)\r\n",
        "#         x = F.log_softmax(x, dim=1)\r\n",
        "#         return x"
      ],
      "execution_count": null,
      "outputs": []
    },
    {
      "cell_type": "code",
      "metadata": {
        "id": "8NzZS6HjsVFY"
      },
      "source": [
        "# # #  Model paramters: 11730, accuray: >99.4\r\n",
        "\r\n",
        "# class Net(nn.Module):\r\n",
        "#     def __init__(self):\r\n",
        "#         super(Net, self).__init__()\r\n",
        "        \r\n",
        "#         self.conv = nn.Sequential(\r\n",
        "#             nn.Conv2d(1, 8, 3, padding=1),\r\n",
        "#             nn.ReLU(),\r\n",
        "#             nn.Conv2d(8, 8, 3, padding=1),\r\n",
        "#             nn.ReLU(),\r\n",
        "#             nn.BatchNorm2d(8),\r\n",
        "#             nn.MaxPool2d(2,2),\r\n",
        "#             nn.Conv2d(8, 16, 3, padding=1),\r\n",
        "#             nn.ReLU(),\r\n",
        "#             nn.Conv2d(16, 16, 3, padding=1),\r\n",
        "#             nn.ReLU(),\r\n",
        "#             nn.BatchNorm2d(16),\r\n",
        "#             nn.MaxPool2d(2,2),\r\n",
        "#             nn.Conv2d(16, 32, 3),\r\n",
        "#             nn.ReLU(),\r\n",
        "#             nn.Conv2d(32, 10, 3),\r\n",
        "#             nn.AvgPool2d(3, 2),\r\n",
        "#         )\r\n",
        " \r\n",
        "#     def forward(self, x):\r\n",
        "#         x = self.conv(x)\r\n",
        "        \r\n",
        "#         x = x.view(-1, 10)\r\n",
        "#         x = F.log_softmax(x, dim=1)\r\n",
        "#         return x\r\n"
      ],
      "execution_count": null,
      "outputs": []
    },
    {
      "cell_type": "code",
      "metadata": {
        "id": "PWp61K2vwrdg"
      },
      "source": [
        "# Model paramters: 11682, accuray: >99.3\r\n",
        "\r\n",
        "# class Net(nn.Module):\r\n",
        "#     def __init__(self):\r\n",
        "#         super(Net, self).__init__()\r\n",
        "        \r\n",
        "#         self.conv = nn.Sequential(\r\n",
        "#             nn.Conv2d(1, 8, 3, padding=1),\r\n",
        "#             nn.ReLU(),\r\n",
        "#             nn.Conv2d(8, 8, 3, padding=1),\r\n",
        "#             nn.ReLU(),\r\n",
        "#             nn.MaxPool2d(2,2),\r\n",
        "#             nn.Conv2d(8, 16, 3, padding=1),\r\n",
        "#             nn.ReLU(),\r\n",
        "#             nn.Conv2d(16, 16, 3, padding=1),\r\n",
        "#             nn.ReLU(),\r\n",
        "#             nn.MaxPool2d(2,2),\r\n",
        "#             nn.Conv2d(16, 32, 3),\r\n",
        "#             nn.ReLU(),\r\n",
        "#             nn.Conv2d(32, 10, 3),\r\n",
        "#             nn.AvgPool2d(3, 2),\r\n",
        "#         )\r\n",
        " \r\n",
        "#     def forward(self, x):\r\n",
        "#         x = self.conv(x)\r\n",
        "        \r\n",
        "#         x = x.view(-1, 10)\r\n",
        "#         x = F.log_softmax(x, dim=1)\r\n",
        "#         return x\r\n"
      ],
      "execution_count": null,
      "outputs": []
    },
    {
      "cell_type": "code",
      "metadata": {
        "id": "bT7mJpTr0WIz"
      },
      "source": [
        "# Model paramters: 11842, accuray: >99.5\r\n",
        "\r\n",
        "# class Net(nn.Module):\r\n",
        "#     def __init__(self):\r\n",
        "#         super(Net, self).__init__()\r\n",
        "        \r\n",
        "#         self.conv = nn.Sequential(\r\n",
        "#             nn.Conv2d(1, 8, 3, padding=1),\r\n",
        "#             nn.ReLU(),\r\n",
        "#             nn.BatchNorm2d(8),\r\n",
        "#             nn.Conv2d(8, 8, 3, padding=1),\r\n",
        "#             nn.ReLU(),\r\n",
        "#             nn.BatchNorm2d(8),\r\n",
        "#             nn.MaxPool2d(2,2),\r\n",
        "#             nn.Conv2d(8, 16, 3, padding=1),\r\n",
        "#             nn.ReLU(),\r\n",
        "#             nn.BatchNorm2d(16),\r\n",
        "#             nn.Conv2d(16, 16, 3, padding=1),\r\n",
        "#             nn.ReLU(),\r\n",
        "#             nn.BatchNorm2d(16),\r\n",
        "#             nn.MaxPool2d(2,2),\r\n",
        "#             nn.Conv2d(16, 32, 3),\r\n",
        "#             nn.ReLU(),\r\n",
        "#             nn.BatchNorm2d(32),\r\n",
        "#             nn.Conv2d(32, 10, 3),\r\n",
        "#             nn.AvgPool2d(3, 2),\r\n",
        "#         )\r\n",
        " \r\n",
        "#     def forward(self, x):\r\n",
        "#         x = self.conv(x)\r\n",
        "        \r\n",
        "#         x = x.view(-1, 10)\r\n",
        "#         x = F.log_softmax(x, dim=1)\r\n",
        "#         return x\r\n"
      ],
      "execution_count": null,
      "outputs": []
    },
    {
      "cell_type": "code",
      "metadata": {
        "id": "cXvazaLC6Hvz"
      },
      "source": [
        "# Model paramters: 9274, accuray: >99.5\r\n",
        "\r\n",
        "class Net(nn.Module):\r\n",
        "    def __init__(self):\r\n",
        "        super(Net, self).__init__()\r\n",
        "        \r\n",
        "        self.conv = nn.Sequential(\r\n",
        "            nn.Conv2d(1, 4, 3, padding=1), #28x28x1 > 28x28x4 : RF: 3x3\r\n",
        "            nn.ReLU(),\r\n",
        "            nn.BatchNorm2d(4),\r\n",
        "            nn.Conv2d(4, 4, 3, padding=1), # 28x28x4 > 28x28x4 : RF: 5x5\r\n",
        "            nn.ReLU(),\r\n",
        "            nn.BatchNorm2d(4),\r\n",
        "            nn.Conv2d(4, 8, 3, padding=1), #28x28x4 >  28x28x8 RF: 7x7\r\n",
        "            nn.ReLU(),\r\n",
        "            nn.BatchNorm2d(8),\r\n",
        "            nn.MaxPool2d(2,2),\r\n",
        "            nn.Conv2d(8, 12, 3, padding=1), #14x14x8  > 14x14x12 : RF: 14x14\r\n",
        "            nn.ReLU(),\r\n",
        "            nn.BatchNorm2d(12), \r\n",
        "            nn.Conv2d(12, 12, 3, padding= 1), # 14x14x12 > 14x14x12  : RF: 16x16\r\n",
        "            nn.ReLU(),\r\n",
        "            nn.BatchNorm2d(12),\r\n",
        "            nn.Conv2d(12, 16, 3, padding= 1), # 14x14x12  > 14x14x16 : RF: 18x18\r\n",
        "            nn.ReLU(),\r\n",
        "            nn.BatchNorm2d(16),\r\n",
        "            nn.MaxPool2d(2,2),\r\n",
        "            nn.Conv2d(16, 20, 3), # 7x7x16 > 5x5x20 : RF: 36x36\r\n",
        "            nn.ReLU(),\r\n",
        "            nn.BatchNorm2d(20),\r\n",
        "            nn.Conv2d(20, 10, 3), #5x5x20 > 3x3x10 : RF: 38x38\r\n",
        "            nn.AvgPool2d(3, 2), # 3x3x10 > 1x1x10 : RF: 77x77\r\n",
        "        )\r\n",
        " \r\n",
        "    def forward(self, x):\r\n",
        "        x = self.conv(x)\r\n",
        "        \r\n",
        "        x = x.view(-1, 10)\r\n",
        "        x = F.log_softmax(x, dim=1)\r\n",
        "        return x\r\n"
      ],
      "execution_count": null,
      "outputs": []
    },
    {
      "cell_type": "code",
      "metadata": {
        "colab": {
          "base_uri": "https://localhost:8080/"
        },
        "id": "xdydjYTZFyi3",
        "outputId": "ad744cc7-81f3-4e2c-860d-9c5c866d694d"
      },
      "source": [
        "# !pip install torchsummary\n",
        "from torchsummary import summary\n",
        "use_cuda = torch.cuda.is_available()\n",
        "device = torch.device(\"cuda\" if use_cuda else \"cpu\")\n",
        "model = Net().to(device)\n",
        "summary(model, input_size=(1, 28, 28))"
      ],
      "execution_count": null,
      "outputs": [
        {
          "output_type": "stream",
          "text": [
            "----------------------------------------------------------------\n",
            "        Layer (type)               Output Shape         Param #\n",
            "================================================================\n",
            "            Conv2d-1            [-1, 4, 28, 28]              40\n",
            "              ReLU-2            [-1, 4, 28, 28]               0\n",
            "       BatchNorm2d-3            [-1, 4, 28, 28]               8\n",
            "            Conv2d-4            [-1, 4, 28, 28]             148\n",
            "              ReLU-5            [-1, 4, 28, 28]               0\n",
            "       BatchNorm2d-6            [-1, 4, 28, 28]               8\n",
            "            Conv2d-7            [-1, 8, 28, 28]             296\n",
            "              ReLU-8            [-1, 8, 28, 28]               0\n",
            "       BatchNorm2d-9            [-1, 8, 28, 28]              16\n",
            "        MaxPool2d-10            [-1, 8, 14, 14]               0\n",
            "           Conv2d-11           [-1, 12, 14, 14]             876\n",
            "             ReLU-12           [-1, 12, 14, 14]               0\n",
            "      BatchNorm2d-13           [-1, 12, 14, 14]              24\n",
            "           Conv2d-14           [-1, 12, 14, 14]           1,308\n",
            "             ReLU-15           [-1, 12, 14, 14]               0\n",
            "      BatchNorm2d-16           [-1, 12, 14, 14]              24\n",
            "           Conv2d-17           [-1, 16, 12, 12]           1,744\n",
            "             ReLU-18           [-1, 16, 12, 12]               0\n",
            "      BatchNorm2d-19           [-1, 16, 12, 12]              32\n",
            "        MaxPool2d-20             [-1, 16, 6, 6]               0\n",
            "           Conv2d-21             [-1, 20, 6, 6]           2,900\n",
            "             ReLU-22             [-1, 20, 6, 6]               0\n",
            "      BatchNorm2d-23             [-1, 20, 6, 6]              40\n",
            "           Conv2d-24             [-1, 10, 4, 4]           1,810\n",
            "        AvgPool2d-25             [-1, 10, 1, 1]               0\n",
            "================================================================\n",
            "Total params: 9,274\n",
            "Trainable params: 9,274\n",
            "Non-trainable params: 0\n",
            "----------------------------------------------------------------\n",
            "Input size (MB): 0.00\n",
            "Forward/backward pass size (MB): 0.48\n",
            "Params size (MB): 0.04\n",
            "Estimated Total Size (MB): 0.52\n",
            "----------------------------------------------------------------\n"
          ],
          "name": "stdout"
        }
      ]
    },
    {
      "cell_type": "code",
      "metadata": {
        "id": "DqTWLaM5GHgH"
      },
      "source": [
        " \n",
        " \n",
        "torch.manual_seed(1)\n",
        "batch_size = 128\n",
        " \n",
        "kwargs = {'num_workers': 1, 'pin_memory': True} if use_cuda else {}\n",
        "train_loader = torch.utils.data.DataLoader(\n",
        "    datasets.MNIST('../data', train=True, download=True,\n",
        "                    transform=transforms.Compose([\n",
        "                        #transforms.RandomRotation(30),\n",
        "                        transforms.RandomAffine(degrees=20, translate=(0.1,0.1), scale=(0.9, 1.1)),\n",
        "                        transforms.ColorJitter(brightness=0.2, contrast=0.2),\n",
        "                        transforms.ToTensor(),\n",
        "                        transforms.Normalize((0.1307), (0.3081))\n",
        "                    ])),\n",
        "    batch_size=batch_size, shuffle=True, **kwargs)\n",
        "test_loader = torch.utils.data.DataLoader(\n",
        "    datasets.MNIST('../data', train=False, transform=transforms.Compose([\n",
        "                        transforms.ToTensor(),\n",
        "                        transforms.Normalize((0.1307,), (0.3081,))\n",
        "                    ])),\n",
        "    batch_size=batch_size, shuffle=True, **kwargs)"
      ],
      "execution_count": null,
      "outputs": []
    },
    {
      "cell_type": "code",
      "metadata": {
        "id": "jw4GLCf9cYzr"
      },
      "source": [
        "# dataset_tr= datasets.MNIST(root= './data', train= True, download= True,transform= transforms.Compose([transforms.RandomAffine(degrees=20, \r\n",
        "#                         translate=(0.1,0.1), scale=(0.9, 1.1)),\r\n",
        "#                         transforms.ColorJitter(brightness=0.2, contrast=0.2),\r\n",
        "#                         transforms.ToTensor(),\r\n",
        "#                         transforms.Normalize((0.1307), (0.3081))]))\r\n",
        "\r\n",
        "\r\n",
        "# test_set= datasets.MNIST(root= './data', train= False, download= True,transform= transforms.Compose([\r\n",
        "#                         transforms.ToTensor(),\r\n",
        "#                         transforms.Normalize((0.1307), (0.3081))]))\r\n",
        "\r\n",
        "\r\n",
        "# train_set, val_set = torch.utils.data.random_split(dataset_tr, [50000, 10000])\r\n",
        "\r\n",
        "# train_loader= torch.utils.data.DataLoader(train_set, shuffle= True, batch_size= batch_size, **kwargs)\r\n",
        "\r\n",
        "# test_loader= torch.utils.data.DataLoader(test_set, shuffle= True, batch_size= batch_size, **kwargs)\r\n",
        "\r\n",
        "# val_loader= torch.utils.data.DataLoader(val_set, shuffle= True, batch_size= batch_size, **kwargs)"
      ],
      "execution_count": null,
      "outputs": []
    },
    {
      "cell_type": "code",
      "metadata": {
        "id": "8fDefDhaFlwH"
      },
      "source": [
        "from tqdm import tqdm\n",
        "def train(model, device, train_loader, optimizer, epoch):\n",
        "    model.train()\n",
        "    pbar = tqdm(train_loader)\n",
        " \n",
        "    for batch_idx, (data, target) in enumerate(pbar):\n",
        "        data, target = data.to(device), target.to(device)\n",
        "        optimizer.zero_grad()\n",
        "        output = model(data)\n",
        "        loss = F.nll_loss(output, target)\n",
        "        loss.backward()\n",
        "        optimizer.step()\n",
        "        pbar.set_description(desc= f'loss={loss.item()} batch_id={batch_idx}')\n",
        " \n",
        " \n",
        " \n",
        "def test(model, device, test_loader):\n",
        "    model.eval()\n",
        "    test_loss = 0\n",
        "    correct = 0\n",
        "    with torch.no_grad():\n",
        "        for data, target in test_loader:\n",
        "            data, target = data.to(device), target.to(device)\n",
        "            output = model(data)\n",
        "            test_loss += F.nll_loss(output, target, reduction='sum').item()  # sum up batch loss\n",
        "            pred = output.argmax(dim=1, keepdim=True)  # get the index of the max log-probability\n",
        "            correct += pred.eq(target.view_as(pred)).sum().item()\n",
        " \n",
        "    test_loss /= len(test_loader.dataset)\n",
        " \n",
        "    print('\\nTest set: Average loss: {:.4f}, Accuracy: {}/{} ({:.2f}%)\\n'.format(\n",
        "        test_loss, correct, len(test_loader.dataset),\n",
        "        100. * correct / len(test_loader.dataset)))\n",
        "    return test_loss\n",
        "\n",
        "# def val(model, device, val_loader):\n",
        "#     model.eval()\n",
        "#     val_loss= 0\n",
        "#     correct= 0\n",
        "\n",
        "#     with torch.no_grad():\n",
        "#       for data, target in test_loader:\n",
        "#         data, target = data.to(device), target.to(device)\n",
        "#         output= model(data)\n",
        "#         val_loss+= F.nll_loss(output, target, reduction= 'sum').item()\n",
        "#         pred= output.argmax(dim=1, keepdim= True)\n",
        "#         correct += pred.eq(target.view_as(pred)).sum().item()\n",
        "\n",
        "#     val_loss/= len(val_loader.dataset)\n",
        "\n",
        "#     print('\\n Validation Set: Average loss: {:.4f}, Accuracy: {}/{} ({:.2f}%\\n'.format(val_loss, correct, len(val_loader.dataset),\n",
        "#                                                                                       100. * correct/ len(val_loader.dataset))) \n",
        "#     return val_loss\n",
        "\n",
        "  "
      ],
      "execution_count": null,
      "outputs": []
    },
    {
      "cell_type": "code",
      "metadata": {
        "colab": {
          "base_uri": "https://localhost:8080/"
        },
        "id": "MMWbLWO6FuHb",
        "outputId": "ada25270-0107-44c5-e4c7-655a76fd7eac"
      },
      "source": [
        "import torch.optim as optim\n",
        " \n",
        "model = Net().to(device)\n",
        "# optimizer = optim.SGD(model.parameters(), lr=0.01, momentum=0.9)\n",
        "optimizer= optim.Adam(model.parameters(), lr= 0.01)\n",
        "scheduler = optim.lr_scheduler.ReduceLROnPlateau(optimizer, patience=2) # Learning rate scheduler with patience = 2\n",
        " \n",
        "for epoch in range(1, 20):\n",
        "    train(model, device, train_loader, optimizer, epoch)\n",
        "    test_loss = test(model, device, test_loader)\n",
        "\n",
        "    \n",
        "    print('Epoch-{0} lr: {1}'.format(epoch, optimizer.param_groups[0]['lr']))\n",
        "    scheduler.step(test_loss)\n",
        "\n",
        "\n",
        "#RF(n)= stride*RF(n-1)+ (kernels-stride) "
      ],
      "execution_count": null,
      "outputs": [
        {
          "output_type": "stream",
          "text": [
            "loss=0.1344827115535736 batch_id=468: 100%|██████████| 469/469 [00:56<00:00,  8.23it/s]\n",
            "  0%|          | 0/469 [00:00<?, ?it/s]"
          ],
          "name": "stderr"
        },
        {
          "output_type": "stream",
          "text": [
            "\n",
            "Test set: Average loss: 0.0741, Accuracy: 9762/10000 (97.62%)\n",
            "\n",
            "Epoch-1 lr: 0.01\n"
          ],
          "name": "stdout"
        },
        {
          "output_type": "stream",
          "text": [
            "loss=0.04636824131011963 batch_id=468: 100%|██████████| 469/469 [00:46<00:00, 10.15it/s]\n",
            "  0%|          | 0/469 [00:00<?, ?it/s]"
          ],
          "name": "stderr"
        },
        {
          "output_type": "stream",
          "text": [
            "\n",
            "Test set: Average loss: 0.0403, Accuracy: 9877/10000 (98.77%)\n",
            "\n",
            "Epoch-2 lr: 0.01\n"
          ],
          "name": "stdout"
        },
        {
          "output_type": "stream",
          "text": [
            "loss=0.016344238072633743 batch_id=468: 100%|██████████| 469/469 [00:47<00:00,  9.83it/s]\n",
            "  0%|          | 0/469 [00:00<?, ?it/s]"
          ],
          "name": "stderr"
        },
        {
          "output_type": "stream",
          "text": [
            "\n",
            "Test set: Average loss: 0.0391, Accuracy: 9884/10000 (98.84%)\n",
            "\n",
            "Epoch-3 lr: 0.01\n"
          ],
          "name": "stdout"
        },
        {
          "output_type": "stream",
          "text": [
            "loss=0.0733371302485466 batch_id=468: 100%|██████████| 469/469 [00:47<00:00,  9.78it/s]\n",
            "  0%|          | 0/469 [00:00<?, ?it/s]"
          ],
          "name": "stderr"
        },
        {
          "output_type": "stream",
          "text": [
            "\n",
            "Test set: Average loss: 0.0346, Accuracy: 9889/10000 (98.89%)\n",
            "\n",
            "Epoch-4 lr: 0.01\n"
          ],
          "name": "stdout"
        },
        {
          "output_type": "stream",
          "text": [
            "loss=0.059335771948099136 batch_id=468: 100%|██████████| 469/469 [00:48<00:00,  9.75it/s]\n",
            "  0%|          | 0/469 [00:00<?, ?it/s]"
          ],
          "name": "stderr"
        },
        {
          "output_type": "stream",
          "text": [
            "\n",
            "Test set: Average loss: 0.0270, Accuracy: 9914/10000 (99.14%)\n",
            "\n",
            "Epoch-5 lr: 0.01\n"
          ],
          "name": "stdout"
        },
        {
          "output_type": "stream",
          "text": [
            "loss=0.14347608387470245 batch_id=468: 100%|██████████| 469/469 [00:48<00:00,  9.64it/s]\n",
            "  0%|          | 0/469 [00:00<?, ?it/s]"
          ],
          "name": "stderr"
        },
        {
          "output_type": "stream",
          "text": [
            "\n",
            "Test set: Average loss: 0.0340, Accuracy: 9896/10000 (98.96%)\n",
            "\n",
            "Epoch-6 lr: 0.01\n"
          ],
          "name": "stdout"
        },
        {
          "output_type": "stream",
          "text": [
            "loss=0.009856713004410267 batch_id=468: 100%|██████████| 469/469 [00:47<00:00,  9.81it/s]\n",
            "  0%|          | 0/469 [00:00<?, ?it/s]"
          ],
          "name": "stderr"
        },
        {
          "output_type": "stream",
          "text": [
            "\n",
            "Test set: Average loss: 0.0236, Accuracy: 9928/10000 (99.28%)\n",
            "\n",
            "Epoch-7 lr: 0.01\n"
          ],
          "name": "stdout"
        },
        {
          "output_type": "stream",
          "text": [
            "loss=0.005575618240982294 batch_id=468: 100%|██████████| 469/469 [00:48<00:00,  9.64it/s]\n",
            "  0%|          | 0/469 [00:00<?, ?it/s]"
          ],
          "name": "stderr"
        },
        {
          "output_type": "stream",
          "text": [
            "\n",
            "Test set: Average loss: 0.0277, Accuracy: 9910/10000 (99.10%)\n",
            "\n",
            "Epoch-8 lr: 0.01\n"
          ],
          "name": "stdout"
        },
        {
          "output_type": "stream",
          "text": [
            "loss=0.053929176181554794 batch_id=468: 100%|██████████| 469/469 [00:48<00:00,  9.68it/s]\n",
            "  0%|          | 0/469 [00:00<?, ?it/s]"
          ],
          "name": "stderr"
        },
        {
          "output_type": "stream",
          "text": [
            "\n",
            "Test set: Average loss: 0.0299, Accuracy: 9911/10000 (99.11%)\n",
            "\n",
            "Epoch-9 lr: 0.01\n"
          ],
          "name": "stdout"
        },
        {
          "output_type": "stream",
          "text": [
            "loss=0.095228411257267 batch_id=468: 100%|██████████| 469/469 [00:47<00:00,  9.77it/s]\n",
            "  0%|          | 0/469 [00:00<?, ?it/s]"
          ],
          "name": "stderr"
        },
        {
          "output_type": "stream",
          "text": [
            "\n",
            "Test set: Average loss: 0.0315, Accuracy: 9906/10000 (99.06%)\n",
            "\n",
            "Epoch-10 lr: 0.01\n"
          ],
          "name": "stdout"
        },
        {
          "output_type": "stream",
          "text": [
            "loss=0.01667579635977745 batch_id=468: 100%|██████████| 469/469 [00:48<00:00,  9.66it/s]\n",
            "  0%|          | 0/469 [00:00<?, ?it/s]"
          ],
          "name": "stderr"
        },
        {
          "output_type": "stream",
          "text": [
            "\n",
            "Test set: Average loss: 0.0163, Accuracy: 9952/10000 (99.52%)\n",
            "\n",
            "Epoch-11 lr: 0.001\n"
          ],
          "name": "stdout"
        },
        {
          "output_type": "stream",
          "text": [
            "loss=0.03392133489251137 batch_id=468: 100%|██████████| 469/469 [00:48<00:00,  9.62it/s]\n",
            "  0%|          | 0/469 [00:00<?, ?it/s]"
          ],
          "name": "stderr"
        },
        {
          "output_type": "stream",
          "text": [
            "\n",
            "Test set: Average loss: 0.0157, Accuracy: 9949/10000 (99.49%)\n",
            "\n",
            "Epoch-12 lr: 0.001\n"
          ],
          "name": "stdout"
        },
        {
          "output_type": "stream",
          "text": [
            "loss=0.007246799301356077 batch_id=468: 100%|██████████| 469/469 [00:48<00:00,  9.73it/s]\n",
            "  0%|          | 0/469 [00:00<?, ?it/s]"
          ],
          "name": "stderr"
        },
        {
          "output_type": "stream",
          "text": [
            "\n",
            "Test set: Average loss: 0.0160, Accuracy: 9954/10000 (99.54%)\n",
            "\n",
            "Epoch-13 lr: 0.001\n"
          ],
          "name": "stdout"
        },
        {
          "output_type": "stream",
          "text": [
            "loss=0.00504808034747839 batch_id=468: 100%|██████████| 469/469 [00:49<00:00,  9.47it/s]\n",
            "  0%|          | 0/469 [00:00<?, ?it/s]"
          ],
          "name": "stderr"
        },
        {
          "output_type": "stream",
          "text": [
            "\n",
            "Test set: Average loss: 0.0165, Accuracy: 9945/10000 (99.45%)\n",
            "\n",
            "Epoch-14 lr: 0.001\n"
          ],
          "name": "stdout"
        },
        {
          "output_type": "stream",
          "text": [
            "loss=0.01653393916785717 batch_id=468: 100%|██████████| 469/469 [00:49<00:00,  9.48it/s]\n",
            "  0%|          | 0/469 [00:00<?, ?it/s]"
          ],
          "name": "stderr"
        },
        {
          "output_type": "stream",
          "text": [
            "\n",
            "Test set: Average loss: 0.0151, Accuracy: 9951/10000 (99.51%)\n",
            "\n",
            "Epoch-15 lr: 0.001\n"
          ],
          "name": "stdout"
        },
        {
          "output_type": "stream",
          "text": [
            "loss=0.05489780381321907 batch_id=468: 100%|██████████| 469/469 [00:49<00:00,  9.50it/s]\n",
            "  0%|          | 0/469 [00:00<?, ?it/s]"
          ],
          "name": "stderr"
        },
        {
          "output_type": "stream",
          "text": [
            "\n",
            "Test set: Average loss: 0.0152, Accuracy: 9954/10000 (99.54%)\n",
            "\n",
            "Epoch-16 lr: 0.001\n"
          ],
          "name": "stdout"
        },
        {
          "output_type": "stream",
          "text": [
            "loss=0.018615325912833214 batch_id=468: 100%|██████████| 469/469 [00:50<00:00,  9.36it/s]\n",
            "  0%|          | 0/469 [00:00<?, ?it/s]"
          ],
          "name": "stderr"
        },
        {
          "output_type": "stream",
          "text": [
            "\n",
            "Test set: Average loss: 0.0153, Accuracy: 9948/10000 (99.48%)\n",
            "\n",
            "Epoch-17 lr: 0.001\n"
          ],
          "name": "stdout"
        },
        {
          "output_type": "stream",
          "text": [
            "loss=0.01525721326470375 batch_id=468: 100%|██████████| 469/469 [00:50<00:00,  9.36it/s]\n",
            "  0%|          | 0/469 [00:00<?, ?it/s]"
          ],
          "name": "stderr"
        },
        {
          "output_type": "stream",
          "text": [
            "\n",
            "Test set: Average loss: 0.0162, Accuracy: 9949/10000 (99.49%)\n",
            "\n",
            "Epoch-18 lr: 0.001\n"
          ],
          "name": "stdout"
        },
        {
          "output_type": "stream",
          "text": [
            "loss=0.009698312729597092 batch_id=468: 100%|██████████| 469/469 [00:48<00:00,  9.62it/s]\n"
          ],
          "name": "stderr"
        },
        {
          "output_type": "stream",
          "text": [
            "\n",
            "Test set: Average loss: 0.0154, Accuracy: 9952/10000 (99.52%)\n",
            "\n",
            "Epoch-19 lr: 0.0001\n"
          ],
          "name": "stdout"
        }
      ]
    },
    {
      "cell_type": "code",
      "metadata": {
        "id": "0SHAqf1YoYtS"
      },
      "source": [
        ""
      ],
      "execution_count": null,
      "outputs": []
    }
  ]
}